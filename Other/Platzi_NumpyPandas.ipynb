{
  "nbformat": 4,
  "nbformat_minor": 0,
  "metadata": {
    "colab": {
      "provenance": [],
      "authorship_tag": "ABX9TyM1Q+oTC4yLzK565BBp7FQp",
      "include_colab_link": true
    },
    "kernelspec": {
      "name": "python3",
      "display_name": "Python 3"
    },
    "language_info": {
      "name": "python"
    }
  },
  "cells": [
    {
      "cell_type": "markdown",
      "metadata": {
        "id": "view-in-github",
        "colab_type": "text"
      },
      "source": [
        "<a href=\"https://colab.research.google.com/github/JMFB007/PlatziDataScience/blob/main/Platzi_NumpyPandas.ipynb\" target=\"_parent\"><img src=\"https://colab.research.google.com/assets/colab-badge.svg\" alt=\"Open In Colab\"/></a>"
      ]
    },
    {
      "cell_type": "code",
      "execution_count": 1,
      "metadata": {
        "id": "3hjztpfcRq2m"
      },
      "outputs": [],
      "source": [
        "import numpy as np"
      ]
    },
    {
      "cell_type": "code",
      "source": [
        "np.zeros((3,5))\n",
        "np.eye(4)#matriz vacia con diagonal en 1's\n",
        "np.random.rand(3)#crea numeros random\n",
        "np.random.randint(1,15,(10,10))#crea numeros random"
      ],
      "metadata": {
        "colab": {
          "base_uri": "https://localhost:8080/"
        },
        "id": "w-VkI81XRxwP",
        "outputId": "7dbc2e5f-ab5b-433e-9eff-c67a08d1306e"
      },
      "execution_count": 15,
      "outputs": [
        {
          "output_type": "execute_result",
          "data": {
            "text/plain": [
              "array([[ 4,  5,  2,  6,  4,  8, 14,  3,  9, 10],\n",
              "       [ 8, 14,  8, 13, 13,  1,  1, 13,  9,  2],\n",
              "       [ 4,  2,  5,  8,  1,  5, 10,  8,  5,  5],\n",
              "       [12, 10,  6,  7, 10,  2,  4,  1, 14, 14],\n",
              "       [ 1,  6,  8, 13, 13,  2, 10,  5,  9,  5],\n",
              "       [10,  4,  5,  4,  7,  4, 10,  2, 12, 10],\n",
              "       [10,  4, 13, 11,  7, 10, 12, 10,  1,  1],\n",
              "       [ 7, 13, 12,  8,  8, 12,  5,  6, 12, 13],\n",
              "       [12, 12, 13,  6,  9,  4,  4,  1,  9, 11],\n",
              "       [ 5,  8, 10,  1,  8, 11, 13, 14,  2,  6]])"
            ]
          },
          "metadata": {},
          "execution_count": 15
        }
      ]
    }
  ]
}