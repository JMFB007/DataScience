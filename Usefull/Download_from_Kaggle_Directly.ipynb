{
  "nbformat": 4,
  "nbformat_minor": 0,
  "metadata": {
    "colab": {
      "provenance": [],
      "authorship_tag": "ABX9TyNZqUPgED4/+FgJZNX7xD58",
      "include_colab_link": true
    },
    "kernelspec": {
      "name": "python3",
      "display_name": "Python 3"
    },
    "language_info": {
      "name": "python"
    }
  },
  "cells": [
    {
      "cell_type": "markdown",
      "metadata": {
        "id": "view-in-github",
        "colab_type": "text"
      },
      "source": [
        "<a href=\"https://colab.research.google.com/github/JMFB007/PlatziDataScience/blob/main/Download_from_Kaggle_Directly.ipynb\" target=\"_parent\"><img src=\"https://colab.research.google.com/assets/colab-badge.svg\" alt=\"Open In Colab\"/></a>"
      ]
    },
    {
      "cell_type": "markdown",
      "source": [
        "Download kaggle datasets"
      ],
      "metadata": {
        "id": "xVI77hm_98E_"
      }
    },
    {
      "cell_type": "code",
      "source": [
        "!pip install kaggle --upgrade --quiet\n",
        "    #get API keys from kaggle\n",
        "import os\n",
        "from google.colab import drive\n",
        "drive.mount('/content/drive')\n",
        "os.environ['KAGGLE_CONFIG_DIR'] = '/content/drive/MyDrive/kaggle'\n",
        "    #download datasets from kaggle\n",
        "!kaggle datasets download -d nelgiriyewithana/apple-quality #--unzip #--unzip to save as csv directly\n",
        "drive.flush_and_unmount()"
      ],
      "metadata": {
        "colab": {
          "base_uri": "https://localhost:8080/"
        },
        "id": "cYE9HCs091zT",
        "outputId": "da5206cc-9321-48ef-8773-a0d76c9727bd"
      },
      "execution_count": 5,
      "outputs": [
        {
          "output_type": "stream",
          "name": "stdout",
          "text": [
            "Mounted at /content/drive\n",
            "Downloading apple-quality.zip to /content\n",
            "  0% 0.00/170k [00:00<?, ?B/s]\n",
            "100% 170k/170k [00:00<00:00, 83.3MB/s]\n"
          ]
        }
      ]
    },
    {
      "cell_type": "code",
      "execution_count": 51,
      "metadata": {
        "colab": {
          "base_uri": "https://localhost:8080/",
          "height": 406
        },
        "id": "b4Ba3Z27vnjQ",
        "outputId": "994bb061-f09e-48b2-e0e4-89b599a43f9c"
      },
      "outputs": [
        {
          "output_type": "display_data",
          "data": {
            "text/plain": [
              "<Figure size 640x480 with 1 Axes>"
            ],
            "image/png": "[encoded data removed]"
          },
          "metadata": {}
        }
      ],
      "source": [
        "import pandas as pd\n",
        "import matplotlib.pyplot as plt\n",
        "\n",
        "data = pd.read_csv('/content/apple-quality.zip').dropna()\n",
        "#print(data)\n",
        "\n",
        "qual = dict(data[\"Quality\"].value_counts())\n",
        "plt.pie([int(x) for x in qual.values()], labels = qual.keys())\n",
        "plt.show()"
      ]
    }
  ]
}